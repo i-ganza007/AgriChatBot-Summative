{
  "metadata": {
    "kernelspec": {
      "language": "python",
      "display_name": "Python 3",
      "name": "python3"
    },
    "language_info": {
      "name": "python",
      "version": "3.11.13",
      "mimetype": "text/x-python",
      "codemirror_mode": {
        "name": "ipython",
        "version": 3
      },
      "pygments_lexer": "ipython3",
      "nbconvert_exporter": "python",
      "file_extension": ".py"
    },
    "kaggle": {
      "accelerator": "nvidiaTeslaT4",
      "dataSources": [],
      "dockerImageVersionId": 31154,
      "isInternetEnabled": true,
      "language": "python",
      "sourceType": "notebook",
      "isGpuEnabled": true
    },
    "colab": {
      "name": "notebook76e0d2ccfa",
      "provenance": [],
      "include_colab_link": true
    }
  },
  "nbformat_minor": 0,
  "nbformat": 4,
  "cells": [
    {
      "cell_type": "markdown",
      "metadata": {
        "id": "view-in-github",
        "colab_type": "text"
      },
      "source": [
        "<a href=\"https://colab.research.google.com/github/i-ganza007/AgriChatBot-Summative/blob/main/FinalModel.ipynb\" target=\"_parent\"><img src=\"https://colab.research.google.com/assets/colab-badge.svg\" alt=\"Open In Colab\"/></a>"
      ]
    },
    {
      "cell_type": "code",
      "source": [
        "import numpy as np\n",
        "import pandas as pd\n",
        "import matplotlib.pyplot as plt\n",
        "import seaborn as sns\n",
        "import warnings\n",
        "warnings.filterwarnings('ignore')\n",
        "\n",
        "import re\n",
        "import unicodedata\n",
        "from collections import Counter\n",
        "\n",
        "import nltk\n",
        "from nltk.stem import WordNetLemmatizer\n",
        "from nltk.corpus import stopwords\n",
        "from nltk.translate.bleu_score import sentence_bleu, SmoothingFunction\n",
        "from nltk.translate.meteor_score import meteor_score\n",
        "\n",
        "from wordcloud import WordCloud\n",
        "from sklearn.model_selection import train_test_split\n",
        "from sklearn.metrics import f1_score, precision_score, recall_score\n",
        "\n",
        "import tensorflow as tf\n",
        "from transformers import T5Tokenizer, TFAutoModelForSeq2SeqLM, create_optimizer"
      ],
      "metadata": {
        "_uuid": "8f2839f25d086af736a60e9eeb907d3b93b6e0e5",
        "_cell_guid": "b1076dfc-b9ad-4769-8c92-a6c4dae69d19",
        "trusted": true,
        "execution": {
          "iopub.status.busy": "2025-10-14T21:30:25.430911Z",
          "iopub.execute_input": "2025-10-14T21:30:25.431185Z",
          "iopub.status.idle": "2025-10-14T21:30:54.128463Z",
          "shell.execute_reply.started": "2025-10-14T21:30:25.431166Z",
          "shell.execute_reply": "2025-10-14T21:30:54.127859Z"
        },
        "id": "C1R47lrDzTbF",
        "outputId": "c0db4927-1210-42e2-8d00-28eeb7795073"
      },
      "outputs": [
        {
          "name": "stderr",
          "text": "2025-10-14 21:30:30.503081: E external/local_xla/xla/stream_executor/cuda/cuda_fft.cc:477] Unable to register cuFFT factory: Attempting to register factory for plugin cuFFT when one has already been registered\nWARNING: All log messages before absl::InitializeLog() is called are written to STDERR\nE0000 00:00:1760477430.738244      37 cuda_dnn.cc:8310] Unable to register cuDNN factory: Attempting to register factory for plugin cuDNN when one has already been registered\nE0000 00:00:1760477430.828685      37 cuda_blas.cc:1418] Unable to register cuBLAS factory: Attempting to register factory for plugin cuBLAS when one has already been registered\n",
          "output_type": "stream"
        }
      ],
      "execution_count": null
    },
    {
      "cell_type": "code",
      "source": [
        "from transformers import T5Tokenizer, TFAutoModelForSeq2SeqLM\n",
        "from huggingface_hub import snapshot_download\n",
        "\n",
        "MODEL_NAME = \"t5-small\"\n",
        "\n",
        "try:\n",
        "    tokenizer = T5Tokenizer.from_pretrained(MODEL_NAME, trust_remote_code=False)\n",
        "    model = TFAutoModelForSeq2SeqLM.from_pretrained(MODEL_NAME, trust_remote_code=False)\n",
        "except Exception as e:\n",
        "    print(f\"⚠️ Normal loading failed due to: {e}\\nDownloading local snapshot instead...\")\n",
        "    local_dir = snapshot_download(repo_id=MODEL_NAME)\n",
        "    tokenizer = T5Tokenizer.from_pretrained(local_dir)\n",
        "    model = TFAutoModelForSeq2SeqLM.from_pretrained(local_dir)\n",
        "\n",
        "print(\"\\n✅ Model and tokenizer loaded successfully!\")\n",
        "\n",
        "text = \"translate English to French: The farmer grows rice.\"\n",
        "inputs = tokenizer(text, return_tensors=\"tf\")\n",
        "outputs = model.generate(**inputs)\n",
        "print(\"\\nResult:\", tokenizer.decode(outputs[0], skip_special_tokens=True))"
      ],
      "metadata": {
        "trusted": true,
        "execution": {
          "iopub.status.busy": "2025-10-14T21:30:54.129183Z",
          "iopub.execute_input": "2025-10-14T21:30:54.129685Z",
          "iopub.status.idle": "2025-10-14T21:31:08.494799Z",
          "shell.execute_reply.started": "2025-10-14T21:30:54.129666Z",
          "shell.execute_reply": "2025-10-14T21:31:08.494115Z"
        },
        "id": "SFFl2tgHzTbO",
        "outputId": "25452049-fe6c-4a3f-98a2-79896ea62bb2",
        "colab": {
          "referenced_widgets": [
            "d375dc747b8f43679bceb28ca84ade7a",
            "a2530ff66a854b8c9838369bee3f4b94",
            "a3c416f716004d87a999e9ca4908b85d",
            "eb63d3a105714fe686e40b2b28e2cd58",
            "8519ba349e934e79ac3edb276ab45b62",
            "baea45194a5847ce93d67098cf416cca",
            "acd84bb557b4415a8d32409fa24ec7ae",
            "5cdc8c19e4524bea9e511fd22a32e299",
            "ae356b712c604b95aeca9570575cd243",
            "403526b5834e4e8598da6e51f2069836",
            "a81d641a4bff4370b287cd012d33a6a9",
            "7c0026a941ee44f99879238e01d79989",
            "b0222a37313840188b019c9a16fb0af9",
            "acfbc1fb3e644f30ba57bf765b195cdb",
            "7cc81a6cf9394e7e8f0a70fffe03273c",
            "d4d66dc6fa2241be87353507573c803a",
            "c855dabd890947279f516817fcb53889",
            "f18b2a5b212845d7bcc2c21b68983112",
            "f67e71d2dd2441faa1f490a9883fcda1",
            "384ca6dc887e4f92bd8a2772a071a9a9",
            "5aca8bf9e68e4e8d99950fc3b0e33f15"
          ]
        }
      },
      "outputs": [
        {
          "output_type": "display_data",
          "data": {
            "text/plain": "tokenizer_config.json:   0%|          | 0.00/2.32k [00:00<?, ?B/s]",
            "application/vnd.jupyter.widget-view+json": {
              "version_major": 2,
              "version_minor": 0,
              "model_id": "d375dc747b8f43679bceb28ca84ade7a"
            }
          },
          "metadata": {}
        },
        {
          "name": "stdout",
          "text": "⚠️ Normal loading failed due to: 404 Client Error. (Request ID: Root=1-68eec10e-4a49605939a664b97658075d;40350ccc-fa75-4a6d-ba5b-64173519ec7e)\n\nEntry Not Found for url: https://huggingface.co/api/models/google-t5/t5-small/tree/main/additional_chat_templates?recursive=false&expand=false.\nadditional_chat_templates does not exist on \"main\"\nDownloading local snapshot instead...\n",
          "output_type": "stream"
        },
        {
          "output_type": "display_data",
          "data": {
            "text/plain": "Fetching 20 files:   0%|          | 0/20 [00:00<?, ?it/s]",
            "application/vnd.jupyter.widget-view+json": {
              "version_major": 2,
              "version_minor": 0,
              "model_id": "a2530ff66a854b8c9838369bee3f4b94"
            }
          },
          "metadata": {}
        },
        {
          "output_type": "display_data",
          "data": {
            "text/plain": ".gitattributes:   0%|          | 0.00/537 [00:00<?, ?B/s]",
            "application/vnd.jupyter.widget-view+json": {
              "version_major": 2,
              "version_minor": 0,
              "model_id": "a3c416f716004d87a999e9ca4908b85d"
            }
          },
          "metadata": {}
        },
        {
          "output_type": "display_data",
          "data": {
            "text/plain": "README.md:   0%|          | 0.00/8.47k [00:00<?, ?B/s]",
            "application/vnd.jupyter.widget-view+json": {
              "version_major": 2,
              "version_minor": 0,
              "model_id": "eb63d3a105714fe686e40b2b28e2cd58"
            }
          },
          "metadata": {}
        },
        {
          "output_type": "display_data",
          "data": {
            "text/plain": "config.json:   0%|          | 0.00/1.21k [00:00<?, ?B/s]",
            "application/vnd.jupyter.widget-view+json": {
              "version_major": 2,
              "version_minor": 0,
              "model_id": "8519ba349e934e79ac3edb276ab45b62"
            }
          },
          "metadata": {}
        },
        {
          "output_type": "display_data",
          "data": {
            "text/plain": "generation_config.json:   0%|          | 0.00/147 [00:00<?, ?B/s]",
            "application/vnd.jupyter.widget-view+json": {
              "version_major": 2,
              "version_minor": 0,
              "model_id": "baea45194a5847ce93d67098cf416cca"
            }
          },
          "metadata": {}
        },
        {
          "output_type": "display_data",
          "data": {
            "text/plain": "onnx/decoder_model_merged.onnx:   0%|          | 0.00/233M [00:00<?, ?B/s]",
            "application/vnd.jupyter.widget-view+json": {
              "version_major": 2,
              "version_minor": 0,
              "model_id": "acd84bb557b4415a8d32409fa24ec7ae"
            }
          },
          "metadata": {}
        },
        {
          "output_type": "display_data",
          "data": {
            "text/plain": "flax_model.msgpack:   0%|          | 0.00/242M [00:00<?, ?B/s]",
            "application/vnd.jupyter.widget-view+json": {
              "version_major": 2,
              "version_minor": 0,
              "model_id": "5cdc8c19e4524bea9e511fd22a32e299"
            }
          },
          "metadata": {}
        },
        {
          "output_type": "display_data",
          "data": {
            "text/plain": "onnx/decoder_model.onnx:   0%|          | 0.00/232M [00:00<?, ?B/s]",
            "application/vnd.jupyter.widget-view+json": {
              "version_major": 2,
              "version_minor": 0,
              "model_id": "ae356b712c604b95aeca9570575cd243"
            }
          },
          "metadata": {}
        },
        {
          "output_type": "display_data",
          "data": {
            "text/plain": "model.safetensors:   0%|          | 0.00/242M [00:00<?, ?B/s]",
            "application/vnd.jupyter.widget-view+json": {
              "version_major": 2,
              "version_minor": 0,
              "model_id": "403526b5834e4e8598da6e51f2069836"
            }
          },
          "metadata": {}
        },
        {
          "output_type": "display_data",
          "data": {
            "text/plain": "onnx/decoder_model_merged_quantized.onnx:   0%|          | 0.00/58.7M [00:00<?, ?B/s]",
            "application/vnd.jupyter.widget-view+json": {
              "version_major": 2,
              "version_minor": 0,
              "model_id": "a81d641a4bff4370b287cd012d33a6a9"
            }
          },
          "metadata": {}
        },
        {
          "output_type": "display_data",
          "data": {
            "text/plain": "onnx/decoder_model_quantized.onnx:   0%|          | 0.00/58.4M [00:00<?, ?B/s]",
            "application/vnd.jupyter.widget-view+json": {
              "version_major": 2,
              "version_minor": 0,
              "model_id": "7c0026a941ee44f99879238e01d79989"
            }
          },
          "metadata": {}
        },
        {
          "output_type": "display_data",
          "data": {
            "text/plain": "onnx/decoder_with_past_model.onnx:   0%|          | 0.00/220M [00:00<?, ?B/s]",
            "application/vnd.jupyter.widget-view+json": {
              "version_major": 2,
              "version_minor": 0,
              "model_id": "b0222a37313840188b019c9a16fb0af9"
            }
          },
          "metadata": {}
        },
        {
          "output_type": "display_data",
          "data": {
            "text/plain": "onnx/decoder_with_past_model_quantized.o(…):   0%|          | 0.00/55.2M [00:00<?, ?B/s]",
            "application/vnd.jupyter.widget-view+json": {
              "version_major": 2,
              "version_minor": 0,
              "model_id": "acfbc1fb3e644f30ba57bf765b195cdb"
            }
          },
          "metadata": {}
        },
        {
          "output_type": "display_data",
          "data": {
            "text/plain": "onnx/encoder_model.onnx:   0%|          | 0.00/141M [00:00<?, ?B/s]",
            "application/vnd.jupyter.widget-view+json": {
              "version_major": 2,
              "version_minor": 0,
              "model_id": "7cc81a6cf9394e7e8f0a70fffe03273c"
            }
          },
          "metadata": {}
        },
        {
          "output_type": "display_data",
          "data": {
            "text/plain": "onnx/encoder_model_quantized.onnx:   0%|          | 0.00/35.5M [00:00<?, ?B/s]",
            "application/vnd.jupyter.widget-view+json": {
              "version_major": 2,
              "version_minor": 0,
              "model_id": "d4d66dc6fa2241be87353507573c803a"
            }
          },
          "metadata": {}
        },
        {
          "output_type": "display_data",
          "data": {
            "text/plain": "pytorch_model.bin:   0%|          | 0.00/242M [00:00<?, ?B/s]",
            "application/vnd.jupyter.widget-view+json": {
              "version_major": 2,
              "version_minor": 0,
              "model_id": "c855dabd890947279f516817fcb53889"
            }
          },
          "metadata": {}
        },
        {
          "output_type": "display_data",
          "data": {
            "text/plain": "rust_model.ot:   0%|          | 0.00/242M [00:00<?, ?B/s]",
            "application/vnd.jupyter.widget-view+json": {
              "version_major": 2,
              "version_minor": 0,
              "model_id": "f18b2a5b212845d7bcc2c21b68983112"
            }
          },
          "metadata": {}
        },
        {
          "output_type": "display_data",
          "data": {
            "text/plain": "spiece.model:   0%|          | 0.00/792k [00:00<?, ?B/s]",
            "application/vnd.jupyter.widget-view+json": {
              "version_major": 2,
              "version_minor": 0,
              "model_id": "f67e71d2dd2441faa1f490a9883fcda1"
            }
          },
          "metadata": {}
        },
        {
          "output_type": "display_data",
          "data": {
            "text/plain": "tf_model.h5:   0%|          | 0.00/242M [00:00<?, ?B/s]",
            "application/vnd.jupyter.widget-view+json": {
              "version_major": 2,
              "version_minor": 0,
              "model_id": "384ca6dc887e4f92bd8a2772a071a9a9"
            }
          },
          "metadata": {}
        },
        {
          "output_type": "display_data",
          "data": {
            "text/plain": "tokenizer.json:   0%|          | 0.00/1.39M [00:00<?, ?B/s]",
            "application/vnd.jupyter.widget-view+json": {
              "version_major": 2,
              "version_minor": 0,
              "model_id": "5aca8bf9e68e4e8d99950fc3b0e33f15"
            }
          },
          "metadata": {}
        },
        {
          "name": "stderr",
          "text": "You are using the default legacy behaviour of the <class 'transformers.models.t5.tokenization_t5.T5Tokenizer'>. This is expected, and simply means that the `legacy` (previous) behavior will be used so nothing changes for you. If you want to use the new behaviour, set `legacy=False`. This should only be set if you understand what it means, and thoroughly read the reason why this was added as explained in https://github.com/huggingface/transformers/pull/24565\nI0000 00:00:1760477461.893133      37 gpu_device.cc:2022] Created device /job:localhost/replica:0/task:0/device:GPU:0 with 13942 MB memory:  -> device: 0, name: Tesla T4, pci bus id: 0000:00:04.0, compute capability: 7.5\nI0000 00:00:1760477461.893910      37 gpu_device.cc:2022] Created device /job:localhost/replica:0/task:0/device:GPU:1 with 13942 MB memory:  -> device: 1, name: Tesla T4, pci bus id: 0000:00:05.0, compute capability: 7.5\nTensorFlow and JAX classes are deprecated and will be removed in Transformers v5. We recommend migrating to PyTorch classes or pinning your version of Transformers.\nAll PyTorch model weights were used when initializing TFT5ForConditionalGeneration.\n\nAll the weights of TFT5ForConditionalGeneration were initialized from the PyTorch model.\nIf your task is similar to the task the model of the checkpoint was trained on, you can already use TFT5ForConditionalGeneration for predictions without further training.\nTensorFlow and JAX classes are deprecated and will be removed in Transformers v5. We recommend migrating to PyTorch classes or pinning your version of Transformers.\n",
          "output_type": "stream"
        },
        {
          "name": "stdout",
          "text": "\n✅ Model and tokenizer loaded successfully!\n",
          "output_type": "stream"
        },
        {
          "name": "stderr",
          "text": "WARNING: All log messages before absl::InitializeLog() is called are written to STDERR\nI0000 00:00:1760477466.181687     134 service.cc:148] XLA service 0x7ec07c013d20 initialized for platform CUDA (this does not guarantee that XLA will be used). Devices:\nI0000 00:00:1760477466.182416     134 service.cc:156]   StreamExecutor device (0): Tesla T4, Compute Capability 7.5\nI0000 00:00:1760477466.182433     134 service.cc:156]   StreamExecutor device (1): Tesla T4, Compute Capability 7.5\nI0000 00:00:1760477466.258088     134 cuda_dnn.cc:529] Loaded cuDNN version 90300\nI0000 00:00:1760477466.355351     134 device_compiler.h:188] Compiled cluster using XLA!  This line is logged at most once for the lifetime of the process.\n",
          "output_type": "stream"
        },
        {
          "name": "stdout",
          "text": "\nResult: L'agriculteur cultive du riz.\n",
          "output_type": "stream"
        }
      ],
      "execution_count": null
    },
    {
      "cell_type": "code",
      "source": [
        "import transformers\n",
        "print(f\"Transformers version: {transformers.__version__}\")\n",
        "\n",
        "# Fix for Transformers v4.45+ chat template bug\n",
        "if hasattr(transformers, '__version__'):\n",
        "    major, minor = map(int, transformers.__version__.split('.')[:2])\n",
        "    if major >= 4 and minor >= 45:\n",
        "        print(\"⚠ Detected Transformers v4.45+, applying chat template workaround...\")\n",
        "        import transformers.utils.hub as hub_utils\n",
        "        original_list_repo_templates = hub_utils.list_repo_templates\n",
        "\n",
        "        def patched_list_repo_templates(*args, **kwargs):\n",
        "            try:\n",
        "                return original_list_repo_templates(*args, **kwargs)\n",
        "            except Exception:\n",
        "                return []\n",
        "\n",
        "        hub_utils.list_repo_templates = patched_list_repo_templates\n",
        "        print(\"✓ Workaround applied!\")\n",
        "\n",
        "from transformers import T5Tokenizer, TFAutoModelForSeq2SeqLM, create_optimizer\n",
        "\n",
        "try:\n",
        "    from rouge_score import rouge_scorer\n",
        "    ROUGE_AVAILABLE = True\n",
        "except ImportError:\n",
        "    ROUGE_AVAILABLE = False"
      ],
      "metadata": {
        "trusted": true,
        "execution": {
          "iopub.status.busy": "2025-10-14T21:31:08.496241Z",
          "iopub.execute_input": "2025-10-14T21:31:08.496479Z",
          "iopub.status.idle": "2025-10-14T21:31:08.503033Z",
          "shell.execute_reply.started": "2025-10-14T21:31:08.496461Z",
          "shell.execute_reply": "2025-10-14T21:31:08.502492Z"
        },
        "id": "Qqjt9LfmzTbR",
        "outputId": "25cdf62c-adea-4717-f9f7-49cfabb146a3"
      },
      "outputs": [
        {
          "name": "stdout",
          "text": "Transformers version: 4.53.3\n⚠ Detected Transformers v4.45+, applying chat template workaround...\n✓ Workaround applied!\n",
          "output_type": "stream"
        }
      ],
      "execution_count": null
    },
    {
      "cell_type": "code",
      "source": [
        "import pandas as pd\n",
        "df = pd.read_parquet(\"hf://datasets/KisanVaani/agriculture-qa-english-only/data/train-00000-of-00001.parquet\")\n",
        "df = df[['question', 'answers']].drop_duplicates().dropna()\n",
        "print(f\"Dataset shape: {df.shape}\")"
      ],
      "metadata": {
        "trusted": true,
        "execution": {
          "iopub.status.busy": "2025-10-14T21:31:08.503723Z",
          "iopub.execute_input": "2025-10-14T21:31:08.503954Z",
          "iopub.status.idle": "2025-10-14T21:31:17.319505Z",
          "shell.execute_reply.started": "2025-10-14T21:31:08.503929Z",
          "shell.execute_reply": "2025-10-14T21:31:17.318819Z"
        },
        "id": "99UyY72pzTbS",
        "outputId": "beffb3fa-5c28-4d33-d6d3-322fdcf6055a"
      },
      "outputs": [
        {
          "name": "stdout",
          "text": "Dataset shape: (2331, 2)\n",
          "output_type": "stream"
        }
      ],
      "execution_count": null
    },
    {
      "cell_type": "code",
      "source": [
        "nltk.download('wordnet', quiet=True)\n",
        "nltk.download('omw-1.4', quiet=True)\n",
        "nltk.download('punkt', quiet=True)\n",
        "nltk.download('stopwords', quiet=True)\n",
        "\n",
        "lemmatizer = WordNetLemmatizer()\n",
        "stop_words = set(stopwords.words('english'))"
      ],
      "metadata": {
        "trusted": true,
        "execution": {
          "iopub.status.busy": "2025-10-14T21:31:17.320117Z",
          "iopub.execute_input": "2025-10-14T21:31:17.320345Z",
          "iopub.status.idle": "2025-10-14T21:31:17.790326Z",
          "shell.execute_reply.started": "2025-10-14T21:31:17.320327Z",
          "shell.execute_reply": "2025-10-14T21:31:17.789676Z"
        },
        "id": "F7vqy_C6zTbT"
      },
      "outputs": [],
      "execution_count": null
    },
    {
      "cell_type": "code",
      "source": [
        "def clean_text_t5(text):\n",
        "    \"\"\"Optimized cleaning for T5 fine-tuning (keeps semantics intact)\"\"\"\n",
        "    if not isinstance(text, str):\n",
        "        return \"\"\n",
        "\n",
        "    text = unicodedata.normalize(\"NFKD\", text).encode(\"ascii\", \"ignore\").decode(\"utf-8\", \"ignore\")\n",
        "    text = re.sub(r\"http\\S+|www\\S+|https\\S+\", \"\", text)\n",
        "    text = re.sub(r\"<.*?>\", \"\", text)\n",
        "    text = re.sub(r\"\\s*([?.!,])\\s*\", r\"\\1 \", text)\n",
        "    text = text.lower()\n",
        "    text = re.sub(r\"[^a-zA-Z0-9?.!,']+\", \" \", text)\n",
        "    tokens = [w for w in text.split() if len(w) > 1]\n",
        "    text = \" \".join(tokens)\n",
        "    text = re.sub(r\"\\s+\", \" \", text).strip()\n",
        "    return text"
      ],
      "metadata": {
        "trusted": true,
        "execution": {
          "iopub.status.busy": "2025-10-14T21:31:17.790963Z",
          "iopub.execute_input": "2025-10-14T21:31:17.791212Z",
          "iopub.status.idle": "2025-10-14T21:31:17.796539Z",
          "shell.execute_reply.started": "2025-10-14T21:31:17.791186Z",
          "shell.execute_reply": "2025-10-14T21:31:17.795798Z"
        },
        "id": "luum7d-nzTbU"
      },
      "outputs": [],
      "execution_count": null
    },
    {
      "cell_type": "code",
      "source": [
        "df['question_cleaned'] = df['question'].apply(clean_text_t5)\n",
        "df['answers_cleaned'] = df['answers'].apply(clean_text_t5)\n",
        "\n",
        "df = df[(df['question_cleaned'].str.len() > 0) & (df['answers_cleaned'].str.len() > 0)]\n",
        "print(f\"Dataset shape after cleaning: {df.shape}\")\n",
        "\n",
        "all_words = ' '.join(df['question_cleaned'].tolist() + df['answers_cleaned'].tolist()).split()\n",
        "common_words = Counter(all_words).most_common(20)\n",
        "df_common_words = pd.DataFrame(common_words, columns=['word', 'count'])\n",
        "\n",
        "plt.figure(figsize=(12, 6))\n",
        "sns.barplot(x='count', y='word', data=df_common_words, palette='viridis')\n",
        "plt.title('Most Common Words After Cleaning')\n",
        "plt.xlabel('Frequency')\n",
        "plt.ylabel('Word')\n",
        "plt.tight_layout()\n",
        "plt.show()\n",
        "\n",
        "df['question_length'] = df['question_cleaned'].str.split().str.len()\n",
        "df['answer_length'] = df['answers_cleaned'].str.split().str.len()\n",
        "\n",
        "fig, axes = plt.subplots(1, 2, figsize=(14, 5))\n",
        "axes[0].hist(df['question_length'], bins=30, color='skyblue', edgecolor='black')\n",
        "axes[0].set_title('Question Length Distribution')\n",
        "axes[0].set_xlabel('Number of Words')\n",
        "axes[0].set_ylabel('Frequency')\n",
        "\n",
        "axes[1].hist(df['answer_length'], bins=30, color='salmon', edgecolor='black')\n",
        "axes[1].set_title('Answer Length Distribution')\n",
        "axes[1].set_xlabel('Number of Words')\n",
        "axes[1].set_ylabel('Frequency')\n",
        "\n",
        "plt.tight_layout()\n",
        "plt.show()\n",
        "\n",
        "print(f\"Avg question length: {df['question_length'].mean():.2f} words\")\n",
        "print(f\"Avg answer length: {df['answer_length'].mean():.2f} words\")"
      ],
      "metadata": {
        "trusted": true,
        "execution": {
          "iopub.status.busy": "2025-10-14T21:31:17.79733Z",
          "iopub.execute_input": "2025-10-14T21:31:17.797961Z",
          "iopub.status.idle": "2025-10-14T21:31:18.682907Z",
          "shell.execute_reply.started": "2025-10-14T21:31:17.797944Z",
          "shell.execute_reply": "2025-10-14T21:31:18.682104Z"
        },
        "id": "KmKqx59xzTbV",
        "outputId": "37c859e2-374c-4844-b4a5-4a7fb6dc9eb4"
      },
      "outputs": [
        {
          "name": "stdout",
          "text": "Dataset shape after cleaning: (2331, 4)\n",
          "output_type": "stream"
        },
        {
          "output_type": "display_data",
          "data": {
            "text/plain": "<Figure size 1200x600 with 1 Axes>",
            "image/png": "[encoded data removed]"
          },
          "metadata": {}
        },
        {
          "output_type": "display_data",
          "data": {
            "text/plain": "<Figure size 1400x500 with 2 Axes>",
            "image/png": "[encoded data removed]"
          },
          "metadata": {}
        },
        {
          "name": "stdout",
          "text": "Avg question length: 9.83 words\nAvg answer length: 30.02 words\n",
          "output_type": "stream"
        }
      ],
      "execution_count": null
    },
    {
      "cell_type": "code",
      "source": [
        "MODEL_NAME = \"t5-small\"\n",
        "MAX_INPUT_LENGTH = 256\n",
        "MAX_TARGET_LENGTH = 128\n",
        "BATCH_SIZE = 32\n",
        "EPOCHS = 30\n",
        "LEARNING_RATE = 1e-4\n",
        "VALIDATION_SPLIT = 0.1\n",
        "DROPOUT_RATE = 0.15\n",
        "L2_REG = 1e-5\n",
        "CLIP_NORM = 1.0\n",
        "WARMUP_STEPS = 800\n",
        "LABEL_SMOOTHING = 0.05\n",
        "print(\"GPUs available:\", len(tf.config.list_physical_devices('GPU')))\n",
        "\n",
        "try:\n",
        "    tokenizer = T5Tokenizer.from_pretrained(MODEL_NAME, trust_remote_code=False)\n",
        "    model = TFAutoModelForSeq2SeqLM.from_pretrained(MODEL_NAME, trust_remote_code=False)\n",
        "except Exception as e:\n",
        "    print(f\"⚠️ Normal loading failed due to: {e}\\nDownloading local snapshot instead...\")\n",
        "    local_dir = snapshot_download(repo_id=MODEL_NAME)\n",
        "    tokenizer = T5Tokenizer.from_pretrained(local_dir)\n",
        "    model = TFAutoModelForSeq2SeqLM.from_pretrained(local_dir)\n",
        "\n",
        "print(\"\\nModel and tokenizer loaded successfully!\")\n",
        "\n",
        "task_prefix = \"qa: \"\n",
        "questions = [\n",
        "    f\"{task_prefix}question: {q} context: agricultural domain\"\n",
        "    for q in df['question_cleaned'].tolist()\n",
        "]\n",
        "answers = [\n",
        "    a if a.endswith(('.', '?', '!')) else a + '.'\n",
        "    for a in df['answers_cleaned'].tolist()\n",
        "]\n",
        "\n",
        "print(f\"Sample question (cleaned): {questions[0][:100]}...\")\n",
        "print(f\"Sample answer (cleaned): {answers[0][:100]}...\")"
      ],
      "metadata": {
        "trusted": true,
        "execution": {
          "iopub.status.busy": "2025-10-14T21:31:18.683821Z",
          "iopub.execute_input": "2025-10-14T21:31:18.684016Z",
          "iopub.status.idle": "2025-10-14T21:31:20.049903Z",
          "shell.execute_reply.started": "2025-10-14T21:31:18.684Z",
          "shell.execute_reply": "2025-10-14T21:31:20.049232Z"
        },
        "id": "So9t6boVzTbX",
        "outputId": "d92b43c3-1b68-4c17-8580-5bce13fd5960",
        "colab": {
          "referenced_widgets": [
            "d22e2e10db74497089743ef530481593"
          ]
        }
      },
      "outputs": [
        {
          "name": "stdout",
          "text": "GPUs available: 2\n⚠️ Normal loading failed due to: 404 Client Error. (Request ID: Root=1-68eec126-21e9415a01b95718395a2dab;9467c7e7-63cf-48fe-be5e-d0f304b91879)\n\nEntry Not Found for url: https://huggingface.co/api/models/google-t5/t5-small/tree/main/additional_chat_templates?recursive=false&expand=false.\nadditional_chat_templates does not exist on \"main\"\nDownloading local snapshot instead...\n",
          "output_type": "stream"
        },
        {
          "output_type": "display_data",
          "data": {
            "text/plain": "Fetching 20 files:   0%|          | 0/20 [00:00<?, ?it/s]",
            "application/vnd.jupyter.widget-view+json": {
              "version_major": 2,
              "version_minor": 0,
              "model_id": "d22e2e10db74497089743ef530481593"
            }
          },
          "metadata": {}
        },
        {
          "name": "stderr",
          "text": "All PyTorch model weights were used when initializing TFT5ForConditionalGeneration.\n\nAll the weights of TFT5ForConditionalGeneration were initialized from the PyTorch model.\nIf your task is similar to the task the model of the checkpoint was trained on, you can already use TFT5ForConditionalGeneration for predictions without further training.\n",
          "output_type": "stream"
        },
        {
          "name": "stdout",
          "text": "\nModel and tokenizer loaded successfully!\nSample question (cleaned): qa: question: why is crop rotation important in farming? context: agricultural domain...\nSample answer (cleaned): this helps to prevent soil erosion and depletion, and can also help to control pests and diseases....\n",
          "output_type": "stream"
        }
      ],
      "execution_count": null
    },
    {
      "cell_type": "code",
      "source": [
        "question_tokens = tokenizer(\n",
        "    questions,\n",
        "    padding='max_length',\n",
        "    truncation=True,\n",
        "    max_length=MAX_INPUT_LENGTH,\n",
        "    return_tensors=\"tf\"\n",
        ")\n",
        "answer_tokens = tokenizer(\n",
        "    answers,\n",
        "    padding='max_length',\n",
        "    truncation=True,\n",
        "    max_length=MAX_TARGET_LENGTH,\n",
        "    return_tensors=\"tf\"\n",
        ")\n",
        "\n",
        "labels = tf.where(\n",
        "    answer_tokens['input_ids'] == tokenizer.pad_token_id,\n",
        "    -100,\n",
        "    answer_tokens['input_ids']\n",
        ")\n",
        "\n",
        "indices = np.arange(len(questions))\n",
        "train_idx, val_idx = train_test_split(indices, test_size=VALIDATION_SPLIT, random_state=42)\n",
        "\n",
        "train_input_ids = tf.gather(question_tokens['input_ids'], train_idx)\n",
        "train_attention_mask = tf.gather(question_tokens['attention_mask'], train_idx)\n",
        "train_labels = tf.gather(labels, train_idx)\n",
        "\n",
        "val_input_ids = tf.gather(question_tokens['input_ids'], val_idx)\n",
        "val_attention_mask = tf.gather(question_tokens['attention_mask'], val_idx)\n",
        "val_labels = tf.gather(labels, val_idx)\n",
        "\n",
        "print(f\"Training samples: {len(train_idx)}\")\n",
        "print(f\"Validation samples: {len(val_idx)}\")"
      ],
      "metadata": {
        "trusted": true,
        "execution": {
          "iopub.status.busy": "2025-10-14T21:31:20.052109Z",
          "iopub.execute_input": "2025-10-14T21:31:20.052331Z",
          "iopub.status.idle": "2025-10-14T21:31:20.779017Z",
          "shell.execute_reply.started": "2025-10-14T21:31:20.052315Z",
          "shell.execute_reply": "2025-10-14T21:31:20.77827Z"
        },
        "id": "LCL79Q5szTbZ",
        "outputId": "38f9f70e-9a43-4060-f4f3-b603ce53b23e"
      },
      "outputs": [
        {
          "name": "stdout",
          "text": "Training samples: 2097\nValidation samples: 234\n",
          "output_type": "stream"
        }
      ],
      "execution_count": null
    },
    {
      "cell_type": "code",
      "source": [
        "train_dataset = tf.data.Dataset.from_tensor_slices((\n",
        "    {\n",
        "        'input_ids': train_input_ids,\n",
        "        'attention_mask': train_attention_mask,\n",
        "        'labels': train_labels\n",
        "    },\n",
        "    train_labels\n",
        ")).shuffle(1024).batch(BATCH_SIZE).prefetch(tf.data.AUTOTUNE)\n",
        "\n",
        "val_dataset = tf.data.Dataset.from_tensor_slices((\n",
        "    {\n",
        "        'input_ids': val_input_ids,\n",
        "        'attention_mask': val_attention_mask,\n",
        "        'labels': val_labels\n",
        "    },\n",
        "    val_labels\n",
        ")).batch(BATCH_SIZE).prefetch(tf.data.AUTOTUNE)\n",
        "\n",
        "print(f\"✓ Datasets created!\")\n",
        "print(f\"  Training batches: {len(train_dataset)}\")\n",
        "print(f\"  Validation batches: {len(val_dataset)}\")\n",
        "\n",
        "for batch in train_dataset.take(1):\n",
        "    inputs, targets = batch\n",
        "    print(f\"  ✓ Batch shape check passed\")\n",
        "    print(f\"    - Input IDs: {inputs['input_ids'].shape}\")\n",
        "    print(f\"    - Attention Mask: {inputs['attention_mask'].shape}\")\n",
        "    print(f\"    - Labels: {inputs['labels'].shape}\")\n",
        "    break"
      ],
      "metadata": {
        "trusted": true,
        "execution": {
          "iopub.status.busy": "2025-10-14T21:31:20.779869Z",
          "iopub.execute_input": "2025-10-14T21:31:20.780166Z",
          "iopub.status.idle": "2025-10-14T21:31:20.838254Z",
          "shell.execute_reply.started": "2025-10-14T21:31:20.78014Z",
          "shell.execute_reply": "2025-10-14T21:31:20.837667Z"
        },
        "id": "DsCJD-ckzTba",
        "outputId": "0315bdf0-4b86-4e8c-ab40-f4d7543cf2ec"
      },
      "outputs": [
        {
          "name": "stdout",
          "text": "✓ Datasets created!\n  Training batches: 66\n  Validation batches: 8\n  ✓ Batch shape check passed\n    - Input IDs: (32, 256)\n    - Attention Mask: (32, 256)\n    - Labels: (32, 128)\n",
          "output_type": "stream"
        }
      ],
      "execution_count": null
    },
    {
      "cell_type": "code",
      "source": [
        "import tensorflow as tf\n",
        "\n",
        "def masked_sparse_categorical_accuracy(y_true, y_pred):\n",
        "    y_pred_ids = tf.argmax(y_pred, axis=-1, output_type=tf.int32)\n",
        "    mask = tf.not_equal(y_true, -100)\n",
        "    matches = tf.equal(y_true, tf.cast(y_pred_ids, y_true.dtype))\n",
        "    matches = tf.logical_and(matches, mask)\n",
        "    accuracy = tf.reduce_sum(tf.cast(matches, tf.float32)) / tf.reduce_sum(tf.cast(mask, tf.float32))\n",
        "    return accuracy\n",
        "\n",
        "class WarmupLinearDecay(tf.keras.optimizers.schedules.LearningRateSchedule):\n",
        "    def __init__(self, initial_lr, min_lr, warmup_steps, total_steps):\n",
        "        super().__init__()\n",
        "        self.initial_lr = initial_lr\n",
        "        self.min_lr = min_lr\n",
        "        self.warmup_steps = warmup_steps\n",
        "        self.total_steps = total_steps\n",
        "\n",
        "    def __call__(self, step):\n",
        "        step = tf.cast(step, tf.float32)\n",
        "        warmup_steps_f = tf.cast(self.warmup_steps, tf.float32)\n",
        "        total_steps_f = tf.cast(self.total_steps, tf.float32)\n",
        "\n",
        "        warmup_lr = (step / warmup_steps_f) * self.initial_lr\n",
        "        decay_lr = self.initial_lr - ((step - warmup_steps_f) / (total_steps_f - warmup_steps_f)) * (self.initial_lr - self.min_lr)\n",
        "        return tf.where(step < warmup_steps_f, warmup_lr, decay_lr)\n",
        "\n",
        "# Total steps\n",
        "steps_per_epoch = len(train_dataset) if hasattr(train_dataset, '__len__') else 1000\n",
        "total_steps = steps_per_epoch * EPOCHS\n",
        "warmup_steps = 100\n",
        "\n",
        "lr_schedule = WarmupLinearDecay(\n",
        "    initial_lr=1e-3,\n",
        "    min_lr=1e-6,\n",
        "    warmup_steps=warmup_steps,\n",
        "    total_steps=total_steps\n",
        ")\n",
        "\n",
        "optimizer = tf.keras.optimizers.Nadam(\n",
        "    learning_rate=lr_schedule,\n",
        "    beta_1=0.9,\n",
        "    beta_2=0.999,\n",
        "    epsilon=1e-7,\n",
        "    clipnorm=CLIP_NORM\n",
        ")\n",
        "\n",
        "model.compile(\n",
        "    optimizer=optimizer,\n",
        "    metrics=[masked_sparse_categorical_accuracy]\n",
        ")\n",
        "\n",
        "model.summary()"
      ],
      "metadata": {
        "trusted": true,
        "execution": {
          "iopub.status.busy": "2025-10-14T21:31:20.838889Z",
          "iopub.execute_input": "2025-10-14T21:31:20.839151Z",
          "iopub.status.idle": "2025-10-14T21:31:21.665304Z",
          "shell.execute_reply.started": "2025-10-14T21:31:20.839131Z",
          "shell.execute_reply": "2025-10-14T21:31:21.664468Z"
        },
        "id": "2fA22ypszTbb",
        "outputId": "41ab3b5c-0e91-4afc-f437-69474e5d366b"
      },
      "outputs": [
        {
          "name": "stdout",
          "text": "Model: \"tft5_for_conditional_generation_1\"\n_________________________________________________________________\n Layer (type)                Output Shape              Param #   \n=================================================================\n shared (Embedding)          multiple                  16449536  \n                                                                 \n encoder (TFT5MainLayer)     multiple                  35330816  \n                                                                 \n decoder (TFT5MainLayer)     multiple                  41625344  \n                                                                 \n=================================================================\nTotal params: 60506624 (230.81 MB)\nTrainable params: 60506624 (230.81 MB)\nNon-trainable params: 0 (0.00 Byte)\n_________________________________________________________________\n",
          "output_type": "stream"
        }
      ],
      "execution_count": null
    },
    {
      "cell_type": "code",
      "source": [
        "import os\n",
        "from tf_keras.src.callbacks import ModelCheckpoint, EarlyStopping, LambdaCallback\n",
        "\n",
        "checkpoint_dir = \"checkpoints\"\n",
        "os.makedirs(checkpoint_dir, exist_ok=True)\n",
        "\n",
        "best_model_path = f\"{checkpoint_dir}/t5_best.weights.h5\"\n",
        "backup_path = f\"{checkpoint_dir}/t5_backup.weights.h5\"\n",
        "epoch_file = f\"{checkpoint_dir}/last_epoch.txt\"\n",
        "\n",
        "# Track the last completed epoch (for resuming)\n",
        "initial_epoch = 0\n",
        "if os.path.exists(epoch_file):\n",
        "    try:\n",
        "        with open(epoch_file, \"r\") as f:\n",
        "            initial_epoch = int(f.read().strip())\n",
        "        print(f\"Resuming training from epoch {initial_epoch}...\")\n",
        "    except Exception:\n",
        "        print(\"⚠️ Couldn't read last epoch file, starting from 0.\")\n",
        "else:\n",
        "    print(\"No previous epoch record found, starting fresh.\")\n",
        "if os.path.exists(best_model_path):\n",
        "    print(\"Loading best weights from checkpoint...\")\n",
        "    model.load_weights(best_model_path)\n",
        "elif os.path.exists(backup_path):\n",
        "    print(\"Loading backup weights...\")\n",
        "    model.load_weights(backup_path)\n",
        "else:\n",
        "    print(\"No checkpoint found. Starting from scratch.\")\n",
        "\n",
        "# Save the best model (lowest val_loss)\n",
        "best_checkpoint = ModelCheckpoint(\n",
        "    filepath=best_model_path,\n",
        "    monitor='val_loss',\n",
        "    mode='min',\n",
        "    save_best_only=True,\n",
        "    save_weights_only=True,\n",
        "    verbose=1\n",
        ")\n",
        "\n",
        "backup_checkpoint = ModelCheckpoint(\n",
        "    filepath=backup_path,\n",
        "    monitor='val_loss',\n",
        "    mode='min',\n",
        "    save_best_only=False,\n",
        "    save_weights_only=True,\n",
        "    verbose=0\n",
        ")\n",
        "early_stopping = EarlyStopping(\n",
        "    monitor='val_loss',\n",
        "    patience=3,\n",
        "    restore_best_weights=True,\n",
        "    mode='min',\n",
        "    verbose=1\n",
        ")\n",
        "\n",
        "def on_epoch_end(epoch, logs):\n",
        "    print(f\"\\n✓ Epoch {epoch + 1} Summary:\")\n",
        "    print(f\"   Train Loss: {logs.get('loss', 0):.4f}\")\n",
        "    print(f\"   Val Loss: {logs.get('val_loss', 0):.4f}\")\n",
        "    if 'val_masked_sparse_categorical_accuracy' in logs:\n",
        "        print(f\"   Val Accuracy: {logs['val_masked_sparse_categorical_accuracy']:.4f}\")\n",
        "    print(f\"Checkpoint saved to: {checkpoint_dir}/\")\n",
        "\n",
        "    with open(epoch_file, \"w\") as f:\n",
        "        f.write(str(epoch + 1))\n",
        "\n",
        "epoch_callback = LambdaCallback(on_epoch_end=on_epoch_end)\n",
        "\n",
        "callbacks = [best_checkpoint, backup_checkpoint, early_stopping, epoch_callback]\n",
        "\n",
        "history = model.fit(\n",
        "    train_dataset,\n",
        "    validation_data=val_dataset,\n",
        "    epochs=EPOCHS,\n",
        "    initial_epoch=initial_epoch,\n",
        "    callbacks=callbacks,\n",
        "    verbose=2\n",
        ")"
      ],
      "metadata": {
        "trusted": true,
        "execution": {
          "iopub.status.busy": "2025-10-14T21:31:21.666329Z",
          "iopub.execute_input": "2025-10-14T21:31:21.666653Z",
          "iopub.status.idle": "2025-10-14T21:49:00.404367Z",
          "shell.execute_reply.started": "2025-10-14T21:31:21.666627Z",
          "shell.execute_reply": "2025-10-14T21:49:00.403561Z"
        },
        "id": "VzU9Gq72zTbc",
        "outputId": "93b2cf27-f199-4108-b257-82f8b16d51c9"
      },
      "outputs": [
        {
          "name": "stdout",
          "text": "No previous epoch record found, starting fresh.\nNo checkpoint found. Starting from scratch.\nEpoch 1/30\n\nEpoch 1: val_loss improved from inf to 3.22986, saving model to checkpoints/t5_best.weights.h5\n\n✓ Epoch 1 Summary:\n   Train Loss: 4.0933\n   Val Loss: 3.2299\n   Val Accuracy: 0.4080\nCheckpoint saved to: checkpoints/\n66/66 - 125s - loss: 4.0933 - masked_sparse_categorical_accuracy: 0.3112 - val_loss: 3.2299 - val_masked_sparse_categorical_accuracy: 0.4080 - 125s/epoch - 2s/step\nEpoch 2/30\n\nEpoch 2: val_loss improved from 3.22986 to 2.85330, saving model to checkpoints/t5_best.weights.h5\n\n✓ Epoch 2 Summary:\n   Train Loss: 3.3406\n   Val Loss: 2.8533\n   Val Accuracy: 0.4599\nCheckpoint saved to: checkpoints/\n66/66 - 60s - loss: 3.3406 - masked_sparse_categorical_accuracy: 0.3922 - val_loss: 2.8533 - val_masked_sparse_categorical_accuracy: 0.4599 - 60s/epoch - 914ms/step\nEpoch 3/30\n\nEpoch 3: val_loss improved from 2.85330 to 2.65120, saving model to checkpoints/t5_best.weights.h5\n\n✓ Epoch 3 Summary:\n   Train Loss: 2.9340\n   Val Loss: 2.6512\n   Val Accuracy: 0.4890\nCheckpoint saved to: checkpoints/\n66/66 - 61s - loss: 2.9340 - masked_sparse_categorical_accuracy: 0.4437 - val_loss: 2.6512 - val_masked_sparse_categorical_accuracy: 0.4890 - 61s/epoch - 931ms/step\nEpoch 4/30\n\nEpoch 4: val_loss improved from 2.65120 to 2.50244, saving model to checkpoints/t5_best.weights.h5\n\n✓ Epoch 4 Summary:\n   Train Loss: 2.6500\n   Val Loss: 2.5024\n   Val Accuracy: 0.5158\nCheckpoint saved to: checkpoints/\n66/66 - 62s - loss: 2.6500 - masked_sparse_categorical_accuracy: 0.4843 - val_loss: 2.5024 - val_masked_sparse_categorical_accuracy: 0.5158 - 62s/epoch - 944ms/step\nEpoch 5/30\n\nEpoch 5: val_loss improved from 2.50244 to 2.41280, saving model to checkpoints/t5_best.weights.h5\n\n✓ Epoch 5 Summary:\n   Train Loss: 2.4247\n   Val Loss: 2.4128\n   Val Accuracy: 0.5345\nCheckpoint saved to: checkpoints/\n66/66 - 63s - loss: 2.4247 - masked_sparse_categorical_accuracy: 0.5153 - val_loss: 2.4128 - val_masked_sparse_categorical_accuracy: 0.5345 - 63s/epoch - 948ms/step\nEpoch 6/30\n\nEpoch 6: val_loss improved from 2.41280 to 2.34561, saving model to checkpoints/t5_best.weights.h5\n\n✓ Epoch 6 Summary:\n   Train Loss: 2.2294\n   Val Loss: 2.3456\n   Val Accuracy: 0.5435\nCheckpoint saved to: checkpoints/\n66/66 - 63s - loss: 2.2294 - masked_sparse_categorical_accuracy: 0.5428 - val_loss: 2.3456 - val_masked_sparse_categorical_accuracy: 0.5435 - 63s/epoch - 954ms/step\nEpoch 7/30\n\nEpoch 7: val_loss improved from 2.34561 to 2.29158, saving model to checkpoints/t5_best.weights.h5\n\n✓ Epoch 7 Summary:\n   Train Loss: 2.0734\n   Val Loss: 2.2916\n   Val Accuracy: 0.5566\nCheckpoint saved to: checkpoints/\n66/66 - 63s - loss: 2.0734 - masked_sparse_categorical_accuracy: 0.5668 - val_loss: 2.2916 - val_masked_sparse_categorical_accuracy: 0.5566 - 63s/epoch - 956ms/step\nEpoch 8/30\n\nEpoch 8: val_loss improved from 2.29158 to 2.26379, saving model to checkpoints/t5_best.weights.h5\n\n✓ Epoch 8 Summary:\n   Train Loss: 1.9296\n   Val Loss: 2.2638\n   Val Accuracy: 0.5641\nCheckpoint saved to: checkpoints/\n66/66 - 63s - loss: 1.9296 - masked_sparse_categorical_accuracy: 0.5885 - val_loss: 2.2638 - val_masked_sparse_categorical_accuracy: 0.5641 - 63s/epoch - 958ms/step\nEpoch 9/30\n\nEpoch 9: val_loss improved from 2.26379 to 2.25200, saving model to checkpoints/t5_best.weights.h5\n\n✓ Epoch 9 Summary:\n   Train Loss: 1.8095\n   Val Loss: 2.2520\n   Val Accuracy: 0.5689\nCheckpoint saved to: checkpoints/\n66/66 - 63s - loss: 1.8095 - masked_sparse_categorical_accuracy: 0.6085 - val_loss: 2.2520 - val_masked_sparse_categorical_accuracy: 0.5689 - 63s/epoch - 958ms/step\nEpoch 10/30\n\nEpoch 10: val_loss improved from 2.25200 to 2.22144, saving model to checkpoints/t5_best.weights.h5\n\n✓ Epoch 10 Summary:\n   Train Loss: 1.7025\n   Val Loss: 2.2214\n   Val Accuracy: 0.5731\nCheckpoint saved to: checkpoints/\n66/66 - 63s - loss: 1.7025 - masked_sparse_categorical_accuracy: 0.6249 - val_loss: 2.2214 - val_masked_sparse_categorical_accuracy: 0.5731 - 63s/epoch - 959ms/step\nEpoch 11/30\n\nEpoch 11: val_loss improved from 2.22144 to 2.21625, saving model to checkpoints/t5_best.weights.h5\n\n✓ Epoch 11 Summary:\n   Train Loss: 1.6023\n   Val Loss: 2.2162\n   Val Accuracy: 0.5794\nCheckpoint saved to: checkpoints/\n66/66 - 63s - loss: 1.6023 - masked_sparse_categorical_accuracy: 0.6427 - val_loss: 2.2162 - val_masked_sparse_categorical_accuracy: 0.5794 - 63s/epoch - 953ms/step\nEpoch 12/30\n\nEpoch 12: val_loss did not improve from 2.21625\n\n✓ Epoch 12 Summary:\n   Train Loss: 1.5171\n   Val Loss: 2.2196\n   Val Accuracy: 0.5869\nCheckpoint saved to: checkpoints/\n66/66 - 61s - loss: 1.5171 - masked_sparse_categorical_accuracy: 0.6543 - val_loss: 2.2196 - val_masked_sparse_categorical_accuracy: 0.5869 - 61s/epoch - 932ms/step\nEpoch 13/30\n\nEpoch 13: val_loss improved from 2.21625 to 2.19829, saving model to checkpoints/t5_best.weights.h5\n\n✓ Epoch 13 Summary:\n   Train Loss: 1.4332\n   Val Loss: 2.1983\n   Val Accuracy: 0.5893\nCheckpoint saved to: checkpoints/\n66/66 - 64s - loss: 1.4332 - masked_sparse_categorical_accuracy: 0.6702 - val_loss: 2.1983 - val_masked_sparse_categorical_accuracy: 0.5893 - 64s/epoch - 974ms/step\nEpoch 14/30\n\nEpoch 14: val_loss did not improve from 2.19829\n\n✓ Epoch 14 Summary:\n   Train Loss: 1.3616\n   Val Loss: 2.2121\n   Val Accuracy: 0.5967\nCheckpoint saved to: checkpoints/\n66/66 - 61s - loss: 1.3616 - masked_sparse_categorical_accuracy: 0.6827 - val_loss: 2.2121 - val_masked_sparse_categorical_accuracy: 0.5967 - 61s/epoch - 924ms/step\nEpoch 15/30\n\nEpoch 15: val_loss did not improve from 2.19829\n\n✓ Epoch 15 Summary:\n   Train Loss: 1.2901\n   Val Loss: 2.2127\n   Val Accuracy: 0.5986\nCheckpoint saved to: checkpoints/\n66/66 - 61s - loss: 1.2901 - masked_sparse_categorical_accuracy: 0.6951 - val_loss: 2.2127 - val_masked_sparse_categorical_accuracy: 0.5986 - 61s/epoch - 920ms/step\nEpoch 16/30\n\nEpoch 16: val_loss did not improve from 2.19829\n\n✓ Epoch 16 Summary:\n   Train Loss: 1.2329\n   Val Loss: 2.2347\n   Val Accuracy: 0.5982\nCheckpoint saved to: checkpoints/\n66/66 - 61s - loss: 1.2329 - masked_sparse_categorical_accuracy: 0.7077 - val_loss: 2.2347 - val_masked_sparse_categorical_accuracy: 0.5982 - 61s/epoch - 920ms/step\nEpoch 16: early stopping\nRestoring model weights from the end of the best epoch: 13.\n",
          "output_type": "stream"
        }
      ],
      "execution_count": null
    },
    {
      "cell_type": "code",
      "source": [
        "plt.figure(figsize=(14, 5))\n",
        "\n",
        "plt.subplot(1, 2, 1)\n",
        "plt.plot(history.history['loss'], 'o-', label='Training Loss', linewidth=2, markersize=8)\n",
        "plt.plot(history.history['val_loss'], 's-', label='Validation Loss', linewidth=2, markersize=8)\n",
        "plt.title('Model Loss', fontsize=14, fontweight='bold')\n",
        "plt.xlabel('Epoch', fontsize=12)\n",
        "plt.ylabel('Loss', fontsize=12)\n",
        "plt.legend(fontsize=10)\n",
        "plt.grid(True, alpha=0.3)\n",
        "\n",
        "plt.subplot(1, 2, 2)\n",
        "plt.plot(history.history['masked_sparse_categorical_accuracy'], 'o-', label='Training Accuracy', linewidth=2, markersize=8)\n",
        "plt.plot(history.history['val_masked_sparse_categorical_accuracy'], 's-', label='Validation Accuracy', linewidth=2, markersize=8)\n",
        "plt.title('Model Accuracy', fontsize=14, fontweight='bold')\n",
        "plt.xlabel('Epoch', fontsize=12)\n",
        "plt.ylabel('Accuracy', fontsize=12)\n",
        "plt.legend(fontsize=10)\n",
        "plt.grid(True, alpha=0.3)\n",
        "\n",
        "plt.tight_layout()\n",
        "plt.show()"
      ],
      "metadata": {
        "trusted": true,
        "execution": {
          "iopub.status.busy": "2025-10-14T21:49:00.405293Z",
          "iopub.execute_input": "2025-10-14T21:49:00.405512Z",
          "iopub.status.idle": "2025-10-14T21:49:00.811915Z",
          "shell.execute_reply.started": "2025-10-14T21:49:00.405496Z",
          "shell.execute_reply": "2025-10-14T21:49:00.811166Z"
        },
        "id": "wajna9ZQzTbd",
        "outputId": "e27dd429-02de-4270-a3e9-b25b44efeeb3"
      },
      "outputs": [
        {
          "output_type": "display_data",
          "data": {
            "text/plain": "<Figure size 1400x500 with 2 Axes>",
            "image/png": "[encoded data removed]"
          },
          "metadata": {}
        }
      ],
      "execution_count": null
    },
    {
      "cell_type": "code",
      "source": [
        "initial_train_loss = history.history['loss'][0]\n",
        "final_train_loss = history.history['loss'][-1]\n",
        "loss_improvement = ((initial_train_loss - final_train_loss) / initial_train_loss) * 100\n",
        "\n",
        "initial_train_acc = history.history['masked_sparse_categorical_accuracy'][0]\n",
        "final_train_acc = history.history['masked_sparse_categorical_accuracy'][-1]\n",
        "acc_improvement = ((final_train_acc - initial_train_acc) / initial_train_acc) * 100\n",
        "\n",
        "print(f\"  Loss improved by: {loss_improvement:.1f}%\")\n",
        "print(f\"  Accuracy improved by: {acc_improvement:.1f}%\")"
      ],
      "metadata": {
        "trusted": true,
        "execution": {
          "iopub.status.busy": "2025-10-14T21:50:46.502578Z",
          "iopub.execute_input": "2025-10-14T21:50:46.503328Z",
          "iopub.status.idle": "2025-10-14T21:50:46.50879Z",
          "shell.execute_reply.started": "2025-10-14T21:50:46.503305Z",
          "shell.execute_reply": "2025-10-14T21:50:46.507973Z"
        },
        "id": "oHC5i7_hzTbe",
        "outputId": "6a40b1cc-5660-4dac-8503-9e202b74ebfb"
      },
      "outputs": [
        {
          "name": "stdout",
          "text": "  Loss improved by: 69.9%\n  Accuracy improved by: 127.4%\n",
          "output_type": "stream"
        }
      ],
      "execution_count": null
    },
    {
      "cell_type": "code",
      "source": [
        "import os\n",
        "\n",
        "checkpoint_dir = \"checkpoints\"\n",
        "os.makedirs(checkpoint_dir, exist_ok=True)\n",
        "\n",
        "final_weights_path = f\"{checkpoint_dir}/gakegakebro.h5\"\n",
        "model.save_weights(final_weights_path)\n",
        "\n",
        "print(f\"Final model weights saved to: {final_weights_path}\")"
      ],
      "metadata": {
        "trusted": true,
        "execution": {
          "iopub.status.busy": "2025-10-14T21:51:13.225512Z",
          "iopub.execute_input": "2025-10-14T21:51:13.225789Z",
          "iopub.status.idle": "2025-10-14T21:51:13.96978Z",
          "shell.execute_reply.started": "2025-10-14T21:51:13.22577Z",
          "shell.execute_reply": "2025-10-14T21:51:13.968961Z"
        },
        "id": "BNnZcK1MzTbe",
        "outputId": "fb6dde3b-4701-449e-d787-6a24dff671c6"
      },
      "outputs": [
        {
          "name": "stdout",
          "text": "Final model weights saved to: checkpoints/gakegakebro.h5\n",
          "output_type": "stream"
        }
      ],
      "execution_count": null
    },
    {
      "cell_type": "code",
      "source": [
        "import shutil\n",
        "shutil.copy(\"checkpoints/gakegakebro.h5\", \"/kaggle/working/gakegakebro.h5\")\n"
      ],
      "metadata": {
        "trusted": true,
        "execution": {
          "iopub.status.busy": "2025-10-14T22:14:49.033624Z",
          "iopub.execute_input": "2025-10-14T22:14:49.033946Z",
          "iopub.status.idle": "2025-10-14T22:14:49.306665Z",
          "shell.execute_reply.started": "2025-10-14T22:14:49.033922Z",
          "shell.execute_reply": "2025-10-14T22:14:49.305637Z"
        },
        "id": "-YVVOU1TzTbe",
        "outputId": "71453b85-3e02-4056-c577-8f19fae6505b"
      },
      "outputs": [
        {
          "execution_count": 33,
          "output_type": "execute_result",
          "data": {
            "text/plain": "'/kaggle/working/gakegakebro.h5'"
          },
          "metadata": {}
        }
      ],
      "execution_count": null
    },
    {
      "cell_type": "code",
      "source": [
        "from tqdm import tqdm\n",
        "from nltk.translate.bleu_score import sentence_bleu, SmoothingFunction\n",
        "\n",
        "eval_references = [answers[i] for i in val_idx]\n",
        "\n",
        "predictions = []\n",
        "\n",
        "for i in tqdm(range(0, len(val_idx), BATCH_SIZE)):\n",
        "    batch_input_ids = val_input_ids[i:i+BATCH_SIZE]\n",
        "    batch_attention_mask = val_attention_mask[i:i+BATCH_SIZE]\n",
        "\n",
        "    generated_ids = model.generate(\n",
        "        input_ids=batch_input_ids,\n",
        "        attention_mask=batch_attention_mask,\n",
        "        max_length=MAX_TARGET_LENGTH,\n",
        "        num_beams=4,\n",
        "        early_stopping=True\n",
        "    )\n",
        "\n",
        "    decoded_preds = tokenizer.batch_decode(generated_ids, skip_special_tokens=True)\n",
        "    predictions.extend(decoded_preds)\n",
        "\n",
        "bleu_scores = []\n",
        "smoothing = SmoothingFunction()\n",
        "\n",
        "for ref, pred in zip(eval_references, predictions):\n",
        "    ref_tokens = ref.split()\n",
        "    pred_tokens = pred.split()\n",
        "\n",
        "    score = sentence_bleu(\n",
        "        [ref_tokens],\n",
        "        pred_tokens,\n",
        "        smoothing_function=smoothing.method1\n",
        "    )\n",
        "    bleu_scores.append(score)\n",
        "\n",
        "avg_bleu = np.mean(bleu_scores)\n",
        "print(f\"Average BLEU Score: {avg_bleu:.4f}\")"
      ],
      "metadata": {
        "trusted": true,
        "execution": {
          "iopub.status.busy": "2025-10-14T21:51:33.027594Z",
          "iopub.execute_input": "2025-10-14T21:51:33.027943Z",
          "iopub.status.idle": "2025-10-14T21:54:19.68409Z",
          "shell.execute_reply.started": "2025-10-14T21:51:33.027921Z",
          "shell.execute_reply": "2025-10-14T21:54:19.683461Z"
        },
        "id": "mbVZyXffzTbf",
        "outputId": "6863dd71-3b25-4a6e-a477-af7a81da4aa3"
      },
      "outputs": [
        {
          "name": "stderr",
          "text": "100%|██████████| 8/8 [02:46<00:00, 20.83s/it]",
          "output_type": "stream"
        },
        {
          "name": "stdout",
          "text": "Average BLEU Score: 0.1016\n",
          "output_type": "stream"
        },
        {
          "name": "stderr",
          "text": "\n",
          "output_type": "stream"
        }
      ],
      "execution_count": null
    },
    {
      "cell_type": "code",
      "source": [
        "if ROUGE_AVAILABLE:\n",
        "    scorer = rouge_scorer.RougeScorer(['rouge1', 'rouge2', 'rougeL'], use_stemmer=True)\n",
        "\n",
        "    rouge1_scores = []\n",
        "    rouge2_scores = []\n",
        "    rougeL_scores = []\n",
        "\n",
        "    for ref, pred in zip(eval_references, predictions):\n",
        "        scores = scorer.score(ref, pred)\n",
        "        rouge1_scores.append(scores['rouge1'].fmeasure)\n",
        "        rouge2_scores.append(scores['rouge2'].fmeasure)\n",
        "        rougeL_scores.append(scores['rougeL'].fmeasure)\n",
        "\n",
        "    print(f\"  ROUGE-1 (F1): {np.mean(rouge1_scores):.4f}\")\n",
        "    print(f\"  ROUGE-2 (F1): {np.mean(rouge2_scores):.4f}\")\n",
        "    print(f\"  ROUGE-L (F1): {np.mean(rougeL_scores):.4f}\")"
      ],
      "metadata": {
        "trusted": true,
        "execution": {
          "iopub.status.busy": "2025-10-14T21:55:05.889952Z",
          "iopub.execute_input": "2025-10-14T21:55:05.890265Z",
          "iopub.status.idle": "2025-10-14T21:55:05.896032Z",
          "shell.execute_reply.started": "2025-10-14T21:55:05.890242Z",
          "shell.execute_reply": "2025-10-14T21:55:05.895183Z"
        },
        "id": "JoGf3s-bzTbf"
      },
      "outputs": [],
      "execution_count": null
    },
    {
      "cell_type": "code",
      "source": [
        "total_loss = 0\n",
        "total_tokens = 0\n",
        "\n",
        "for batch in val_dataset.take(50):\n",
        "    inputs, labels = batch\n",
        "    outputs = model(\n",
        "        input_ids=inputs['input_ids'],\n",
        "        attention_mask=inputs['attention_mask'],\n",
        "        labels=inputs['labels'],\n",
        "        training=False\n",
        "    )\n",
        "\n",
        "    batch_loss = outputs.loss\n",
        "\n",
        "    mask = tf.not_equal(inputs['labels'], -100)\n",
        "    num_tokens = tf.reduce_sum(tf.cast(mask, tf.float32))\n",
        "\n",
        "    total_loss += float(batch_loss) * float(num_tokens)\n",
        "    total_tokens += float(num_tokens)\n",
        "\n",
        "perplexity = np.exp(total_loss / total_tokens)\n",
        "print(f\"Perplexity: {perplexity:.4f}\")"
      ],
      "metadata": {
        "trusted": true,
        "execution": {
          "iopub.status.busy": "2025-10-14T21:55:17.449518Z",
          "iopub.execute_input": "2025-10-14T21:55:17.449786Z",
          "iopub.status.idle": "2025-10-14T21:55:19.922841Z",
          "shell.execute_reply.started": "2025-10-14T21:55:17.449766Z",
          "shell.execute_reply": "2025-10-14T21:55:19.922075Z"
        },
        "id": "xTJFewMdzTbf",
        "outputId": "1ae155d7-8cd7-498d-8cdf-046c2db4cbf5"
      },
      "outputs": [
        {
          "name": "stdout",
          "text": "Perplexity: 9.1979\n",
          "output_type": "stream"
        }
      ],
      "execution_count": null
    },
    {
      "cell_type": "code",
      "source": [
        "all_ref_tokens = []\n",
        "all_pred_tokens = []\n",
        "\n",
        "vocab = set()\n",
        "for ref in eval_references:\n",
        "    vocab.update(ref.split())\n",
        "for pred in predictions:\n",
        "    vocab.update(pred.split())\n",
        "\n",
        "vocab = sorted(list(vocab))\n",
        "token_to_idx = {token: idx for idx, token in enumerate(vocab)}"
      ],
      "metadata": {
        "trusted": true,
        "execution": {
          "iopub.status.busy": "2025-10-14T21:55:49.67532Z",
          "iopub.execute_input": "2025-10-14T21:55:49.67556Z",
          "iopub.status.idle": "2025-10-14T21:55:49.682684Z",
          "shell.execute_reply.started": "2025-10-14T21:55:49.675544Z",
          "shell.execute_reply": "2025-10-14T21:55:49.681915Z"
        },
        "id": "s2ayaID1zTbf"
      },
      "outputs": [],
      "execution_count": null
    },
    {
      "cell_type": "code",
      "source": [
        "for ref, pred in zip(eval_references, predictions):\n",
        "    ref_vec = [1 if token in ref.split() else 0 for token in vocab]\n",
        "    pred_vec = [1 if token in pred.split() else 0 for token in vocab]\n",
        "    all_ref_tokens.append(ref_vec)\n",
        "    all_pred_tokens.append(pred_vec)\n",
        "\n",
        "all_ref_flat = np.array(all_ref_tokens).flatten()\n",
        "all_pred_flat = np.array(all_pred_tokens).flatten()\n",
        "\n",
        "token_f1 = f1_score(all_ref_flat, all_pred_flat, average='binary', zero_division=0)\n",
        "token_precision = precision_score(all_ref_flat, all_pred_flat, average='binary', zero_division=0)\n",
        "token_recall = recall_score(all_ref_flat, all_pred_flat, average='binary', zero_division=0)\n",
        "\n",
        "print(f\"  Token Precision: {token_precision:.4f}\")\n",
        "print(f\"  Token Recall: {token_recall:.4f}\")\n",
        "print(f\"  Token F1 Score: {token_f1:.4f}\")"
      ],
      "metadata": {
        "trusted": true,
        "execution": {
          "iopub.status.busy": "2025-10-14T21:56:00.634563Z",
          "iopub.execute_input": "2025-10-14T21:56:00.635276Z",
          "iopub.status.idle": "2025-10-14T21:56:03.190023Z",
          "shell.execute_reply.started": "2025-10-14T21:56:00.635242Z",
          "shell.execute_reply": "2025-10-14T21:56:03.189183Z"
        },
        "id": "-mGf2gMnzTbg",
        "outputId": "9e5f19dd-3ddd-492f-fd2b-e8f0ee9774b1"
      },
      "outputs": [
        {
          "name": "stdout",
          "text": "  Token Precision: 0.4413\n  Token Recall: 0.2733\n  Token F1 Score: 0.3375\n",
          "output_type": "stream"
        }
      ],
      "execution_count": null
    },
    {
      "cell_type": "code",
      "source": [
        "def calculate_f1_score(references, predictions):\n",
        "    \"\"\"Calculate macro-averaged F1 score across all samples\"\"\"\n",
        "    f1_scores = []\n",
        "\n",
        "    for ref, pred in zip(references, predictions):\n",
        "        ref_tokens = set(ref.lower().split())\n",
        "        pred_tokens = set(pred.lower().split())\n",
        "\n",
        "        if len(pred_tokens) == 0:\n",
        "            f1_scores.append(0.0)\n",
        "            continue\n",
        "\n",
        "        # Calculate precision and recall\n",
        "        common = ref_tokens.intersection(pred_tokens)\n",
        "        precision = len(common) / len(pred_tokens) if len(pred_tokens) > 0 else 0\n",
        "        recall = len(common) / len(ref_tokens) if len(ref_tokens) > 0 else 0\n",
        "\n",
        "        # Calculate F1\n",
        "        if precision + recall > 0:\n",
        "            f1 = 2 * (precision * recall) / (precision + recall)\n",
        "        else:\n",
        "            f1 = 0.0\n",
        "\n",
        "        f1_scores.append(f1)\n",
        "\n",
        "    return np.mean(f1_scores), f1_scores\n",
        "\n",
        "macro_f1, f1_scores = calculate_f1_score(eval_references, predictions)\n",
        "print(f\"\\n  Macro F1 Score: {macro_f1:.4f}\")\n",
        "metrics_summary = {\n",
        "    'Metric': ['BLEU', 'F1-Score', 'Perplexity', 'Token Precision', 'Token Recall'],\n",
        "    'Score': [avg_bleu, macro_f1, perplexity, token_precision, token_recall]\n",
        "}\n",
        "\n",
        "if ROUGE_AVAILABLE:\n",
        "    metrics_summary['Metric'].extend(['ROUGE-1', 'ROUGE-2', 'ROUGE-L'])\n",
        "    metrics_summary['Score'].extend([np.mean(rouge1_scores), np.mean(rouge2_scores), np.mean(rougeL_scores)])\n",
        "\n",
        "metrics_df = pd.DataFrame(metrics_summary)\n",
        "\n",
        "print(\"\\n\" + \"=\"*60)\n",
        "print(\"EVALUATION METRICS SUMMARY\")\n",
        "print(\"=\"*60)\n",
        "print(metrics_df.to_string(index=False))\n",
        "\n",
        "fig, axes = plt.subplots(1, 3, figsize=(18, 5))\n",
        "\n",
        "axes[0].hist(bleu_scores, bins=30, color='skyblue', edgecolor='black')\n",
        "axes[0].axvline(avg_bleu, color='red', linestyle='--', linewidth=2, label=f'Mean: {avg_bleu:.3f}')\n",
        "axes[0].set_title('BLEU Score Distribution', fontsize=14, fontweight='bold')\n",
        "axes[0].set_xlabel('BLEU Score', fontsize=12)\n",
        "axes[0].set_ylabel('Frequency', fontsize=12)\n",
        "axes[0].legend()\n",
        "axes[0].grid(True, alpha=0.3)\n",
        "axes[1].hist(f1_scores, bins=30, color='lightgreen', edgecolor='black')\n",
        "axes[1].axvline(macro_f1, color='red', linestyle='--', linewidth=2, label=f'Mean: {macro_f1:.3f}')\n",
        "axes[1].set_title('F1 Score Distribution', fontsize=14, fontweight='bold')\n",
        "axes[1].set_xlabel('F1 Score', fontsize=12)\n",
        "axes[1].set_ylabel('Frequency', fontsize=12)\n",
        "axes[1].legend()\n",
        "axes[1].grid(True, alpha=0.3)\n",
        "\n",
        "key_metrics = ['BLEU', 'F1-Score']\n",
        "key_scores = [avg_bleu, macro_f1]\n",
        "colors = ['#FF6B6B', '#4ECDC4']\n",
        "\n",
        "axes[2].bar(key_metrics, key_scores, color=colors, edgecolor='black', linewidth=2)\n",
        "axes[2].set_title('Key NLP Metrics', fontsize=14, fontweight='bold')\n",
        "axes[2].set_ylabel('Score', fontsize=12)\n",
        "axes[2].set_ylim(0, 1)\n",
        "axes[2].grid(True, alpha=0.3, axis='y')\n",
        "\n",
        "for i, (metric, score) in enumerate(zip(key_metrics, key_scores)):\n",
        "    axes[2].text(i, score + 0.02, f'{score:.3f}', ha='center', fontsize=12, fontweight='bold')\n",
        "\n",
        "plt.tight_layout()\n",
        "plt.show()"
      ],
      "metadata": {
        "trusted": true,
        "execution": {
          "iopub.status.busy": "2025-10-14T21:56:50.062193Z",
          "iopub.execute_input": "2025-10-14T21:56:50.062778Z",
          "iopub.status.idle": "2025-10-14T21:56:50.58606Z",
          "shell.execute_reply.started": "2025-10-14T21:56:50.062754Z",
          "shell.execute_reply": "2025-10-14T21:56:50.58538Z"
        },
        "id": "Vr4obSjnzTbh",
        "outputId": "277733e1-caa7-452c-9598-9fd5fca5d55e"
      },
      "outputs": [
        {
          "name": "stdout",
          "text": "\n  Macro F1 Score: 0.2968\n\n============================================================\nEVALUATION METRICS SUMMARY\n============================================================\n         Metric    Score\n           BLEU 0.101621\n       F1-Score 0.296832\n     Perplexity 9.197940\nToken Precision 0.441303\n   Token Recall 0.273258\n",
          "output_type": "stream"
        },
        {
          "output_type": "display_data",
          "data": {
            "text/plain": "<Figure size 1800x500 with 3 Axes>",
            "image/png": "[encoded data removed]"
          },
          "metadata": {}
        }
      ],
      "execution_count": null
    },
    {
      "cell_type": "code",
      "source": [
        "def generate_answer(question, max_length=128, num_beams=4, temperature=0.7):\n",
        "    \"\"\"Generate answer for a given question\"\"\"\n",
        "    cleaned_question = clean_text_t5(question)\n",
        "    input_text = f\"question: {cleaned_question}\"\n",
        "\n",
        "    inputs = tokenizer(\n",
        "        input_text,\n",
        "        return_tensors=\"tf\",\n",
        "        max_length=MAX_INPUT_LENGTH,\n",
        "        truncation=True,\n",
        "        padding='max_length'\n",
        "    )\n",
        "\n",
        "    outputs = model.generate(\n",
        "        input_ids=inputs['input_ids'],\n",
        "        attention_mask=inputs['attention_mask'],\n",
        "        max_length=max_length,\n",
        "        num_beams=num_beams,\n",
        "        early_stopping=True,\n",
        "        no_repeat_ngram_size=2,\n",
        "        temperature=temperature,\n",
        "        do_sample=False\n",
        "    )\n",
        "\n",
        "    answer = tokenizer.decode(outputs[0], skip_special_tokens=True)\n",
        "    return answer"
      ],
      "metadata": {
        "trusted": true,
        "execution": {
          "iopub.status.busy": "2025-10-14T21:57:35.394758Z",
          "iopub.execute_input": "2025-10-14T21:57:35.395465Z",
          "iopub.status.idle": "2025-10-14T21:57:35.400455Z",
          "shell.execute_reply.started": "2025-10-14T21:57:35.395441Z",
          "shell.execute_reply": "2025-10-14T21:57:35.399764Z"
        },
        "id": "kTHi8OT6zTbh"
      },
      "outputs": [],
      "execution_count": null
    },
    {
      "cell_type": "code",
      "source": [
        "test_questions = [\n",
        "    \"What is the best fertilizer for wheat?\",\n",
        "    \"How to control pests in tomato plants?\",\n",
        "    \"When should I harvest rice?\",\n",
        "    \"What causes yellowing of leaves in crops?\",\n",
        "    \"How much water do potato plants need?\",\n",
        "    \"Best season for planting corn?\",\n",
        "    \"How to prevent fungal diseases in plants?\"\n",
        "]\n",
        "\n",
        "for i, q in enumerate(test_questions, 1):\n",
        "    answer = generate_answer(q)\n",
        "    print(f\"\\n{i}. Question: {q}\")\n",
        "    print(f\"   Answer: {answer}\")\n",
        "    print(\"-\" * 60)"
      ],
      "metadata": {
        "trusted": true,
        "execution": {
          "iopub.status.busy": "2025-10-14T21:57:46.441806Z",
          "iopub.execute_input": "2025-10-14T21:57:46.442084Z",
          "iopub.status.idle": "2025-10-14T21:58:36.063739Z",
          "shell.execute_reply.started": "2025-10-14T21:57:46.442064Z",
          "shell.execute_reply": "2025-10-14T21:58:36.062906Z"
        },
        "id": "QEcd956wzTbi",
        "outputId": "d2301ace-a139-4c8f-b744-c4a6d20853f7"
      },
      "outputs": [
        {
          "name": "stderr",
          "text": "The following generation flags are not valid and may be ignored: ['temperature']. Set `TRANSFORMERS_VERBOSITY=info` for more details.\nThe following generation flags are not valid and may be ignored: ['temperature']. Set `TRANSFORMERS_VERBOSITY=info` for more details.\n",
          "output_type": "stream"
        },
        {
          "name": "stdout",
          "text": "\n1. Question: What is the best fertilizer for wheat?\n   Answer: wheat prefers balanced fertilizer with ratio of 10 10 or similar npk nitrogen phosphorus potassium.\n------------------------------------------------------------\n",
          "output_type": "stream"
        },
        {
          "name": "stderr",
          "text": "The following generation flags are not valid and may be ignored: ['temperature']. Set `TRANSFORMERS_VERBOSITY=info` for more details.\n",
          "output_type": "stream"
        },
        {
          "name": "stdout",
          "text": "\n2. Question: How to control pests in tomato plants?\n   Answer: effective management of pests in tomato plants involves removing and destroying infected plants. additionally, spraying with mancozeb 0. can help control the disease.\n------------------------------------------------------------\n",
          "output_type": "stream"
        },
        {
          "name": "stderr",
          "text": "The following generation flags are not valid and may be ignored: ['temperature']. Set `TRANSFORMERS_VERBOSITY=info` for more details.\n",
          "output_type": "stream"
        },
        {
          "name": "stdout",
          "text": "\n3. Question: When should I harvest rice?\n   Answer: rice should be harvested when the fruit is ready for harvest.\n------------------------------------------------------------\n",
          "output_type": "stream"
        },
        {
          "name": "stderr",
          "text": "The following generation flags are not valid and may be ignored: ['temperature']. Set `TRANSFORMERS_VERBOSITY=info` for more details.\n",
          "output_type": "stream"
        },
        {
          "name": "stdout",
          "text": "\n4. Question: What causes yellowing of leaves in crops?\n   Answer: yellowing of leaves in crops is caused by phyllostictina musarum.\n------------------------------------------------------------\n",
          "output_type": "stream"
        },
        {
          "name": "stderr",
          "text": "The following generation flags are not valid and may be ignored: ['temperature']. Set `TRANSFORMERS_VERBOSITY=info` for more details.\n",
          "output_type": "stream"
        },
        {
          "name": "stdout",
          "text": "\n5. Question: How much water do potato plants need?\n   Answer: potato plants require regular watering, especially during dry periods and fruit development stages. they prefer consistent moisture levels in the soil but are sensitive to waterlogging.\n------------------------------------------------------------\n",
          "output_type": "stream"
        },
        {
          "name": "stderr",
          "text": "The following generation flags are not valid and may be ignored: ['temperature']. Set `TRANSFORMERS_VERBOSITY=info` for more details.\n",
          "output_type": "stream"
        },
        {
          "name": "stdout",
          "text": "\n6. Question: Best season for planting corn?\n   Answer: corn is best planted during the dormant season for planting.\n------------------------------------------------------------\n\n7. Question: How to prevent fungal diseases in plants?\n   Answer: to prevent fungal diseases in plants, use disease free plants by removing and destroying infected plants.\n------------------------------------------------------------\n",
          "output_type": "stream"
        }
      ],
      "execution_count": null
    }
  ]
}